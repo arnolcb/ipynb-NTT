{
 "cells": [
  {
   "cell_type": "markdown",
   "metadata": {},
   "source": [
    "Intento de modelo predictivo"
   ]
  },
  {
   "cell_type": "code",
   "execution_count": 4,
   "metadata": {},
   "outputs": [
    {
     "name": "stdout",
     "output_type": "stream",
     "text": [
      "Mean Squared Error: 29.334907692307695\n",
      "R^2 Score: 0.5070988864585404\n"
     ]
    }
   ],
   "source": [
    "import pandas as pd\n",
    "from sklearn.model_selection import train_test_split\n",
    "from sklearn.ensemble import RandomForestRegressor\n",
    "from sklearn.metrics import mean_squared_error, r2_score\n",
    "\n",
    "# Cargar los datos\n",
    "data = pd.read_csv('FixData/6to/6TO_COMU.csv', delimiter=';')\n",
    "\n",
    "# Convertir variables categóricas en variables dummy\n",
    "data = pd.get_dummies(data)\n",
    "\n",
    "X = data.drop(['PROMEDIO_X_SECCION'], axis=1)\n",
    "y = data['PROMEDIO_X_SECCION']\n",
    "\n",
    "# Conjuntos de entrenamiento y prueba\n",
    "X_train, X_test, y_train, y_test = train_test_split(X, y, test_size=0.2, random_state=42)\n",
    "\n",
    "# Inicializar y entrenar el modelo\n",
    "model = RandomForestRegressor()\n",
    "model.fit(X_train, y_train)\n",
    "\n",
    "# Realizar predicciones en el conjunto de prueba\n",
    "y_pred = model.predict(X_test)\n",
    "\n",
    "# Evaluar el modelo\n",
    "mse = mean_squared_error(y_test, y_pred)\n",
    "r2 = r2_score(y_test, y_pred)\n",
    "\n",
    "print(f'Mean Squared Error: {mse}')\n",
    "print(f'R^2 Score: {r2}')\n"
   ]
  },
  {
   "cell_type": "markdown",
   "metadata": {},
   "source": [
    "Mean Squared Error (MSE):\n",
    "\n",
    "El MSE es una medida de la calidad del ajuste de un modelo de regresión a los datos observados.\n",
    "Cuanto menor sea el valor del MSE, mejor será el rendimiento del modelo.\n",
    "MSE se calcula como la media de los cuadrados de las diferencias entre los valores predichos y los valores reales.\n",
    "Para este ejercicio, el MSE es aproximadamente 29.33. Esto significa que, en promedio, el cuadrado de la diferencia entre las predicciones del modelo y los valores reales es de alrededor de 29.33. Un MSE más bajo indica que el modelo está haciendo predicciones más precisas.\n",
    "\n",
    "R^2 Score:\n",
    "\n",
    "El R^2 Score, o coeficiente de determinación, es una medida que indica qué tan bien las predicciones del modelo se ajustan a los datos reales.\n",
    "El valor de R^2 está entre 0 y 1. Un valor más cercano a 1 indica un mejor ajuste del modelo a los datos, mientras que un valor más cercano a 0 indica que el modelo no se ajusta bien a los datos.\n",
    "R^2 = 1 significa que el modelo explica perfectamente la variabilidad de los datos.\n",
    "R^2 = 0 significa que el modelo no explica ninguna variabilidad de los datos.\n",
    "En este caso, el R^2 Score es aproximadamente 0.51. Esto significa que el modelo explica alrededor del 51% de la variabilidad de los datos, lo cual indica un ajuste moderado del modelo a los datos."
   ]
  },
  {
   "cell_type": "markdown",
   "metadata": {},
   "source": []
  }
 ],
 "metadata": {
  "kernelspec": {
   "display_name": "Python 3",
   "language": "python",
   "name": "python3"
  },
  "language_info": {
   "codemirror_mode": {
    "name": "ipython",
    "version": 3
   },
   "file_extension": ".py",
   "mimetype": "text/x-python",
   "name": "python",
   "nbconvert_exporter": "python",
   "pygments_lexer": "ipython3",
   "version": "3.11.2"
  }
 },
 "nbformat": 4,
 "nbformat_minor": 2
}
